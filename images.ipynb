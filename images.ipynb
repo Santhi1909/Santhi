{
 "cells": [
  {
   "cell_type": "code",
   "execution_count": null,
   "id": "953c4b16",
   "metadata": {
    "vscode": {
     "languageId": "plaintext"
    }
   },
   "outputs": [],
   "source": [
    "!pip install pandas numpy matplotlib scikit-learn\n",
    "import tensorflow as tf\n",
    "from tensorflow.keras.datasets import fashion_mnist\n",
    "from tensorflow.keras.models import Sequential\n",
    "from tensorflow.keras.layers import Dense, Flatten\n",
    "from tensorflow.keras.utils import to_categorical\n",
    "import matplotlib.pyplot as plt\n",
    "import numpy as np\n",
    "(x_train, y_train), (x_test, y_test) = fashion_mnist.load_data()\n",
    "\n",
    "x_train = x_train / 255.0\n",
    "x_test = x_test / 255.0\n",
    "\n",
    "y_train = to_categorical(y_train, num_classes=10)\n",
    "y_test = to_categorical(y_test, num_classes=10)\n",
    "plt.figure(figsize=(10,5))\n",
    "for i in range(10):\n",
    "  plt.subplot(2, 5, i+1)\n",
    "  plt.imshow(x_train[i], cmap='gray')\n",
    "  plt.title(f\"label: {class_names[np.argmax(y_train[i])]}\")\n",
    "  plt.axis(\"off\")\n",
    "plt.show()\n",
    "predictions = model.predict(x_test)\n",
    "for i in range(5):\n",
    "  plt.imshow(x_test[i], cmap='gray')\n",
    "  plt.title(f\"Predicted: {np.argmax(predictions[i])}, Actual: {np.argmax(y_test[i])}\")\n",
    "  plt.axis('off')\n",
    "  plt.show()"
   ]
  }
 ],
 "metadata": {
  "language_info": {
   "name": "python"
  }
 },
 "nbformat": 4,
 "nbformat_minor": 5
}
